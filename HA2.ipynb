{
 "cells": [
  {
   "cell_type": "code",
   "execution_count": 154,
   "metadata": {},
   "outputs": [],
   "source": [
    "import numpy as np\n",
    "import math\n",
    "import matplotlib.pyplot as plt\n",
    "from numpy import linalg as LA\n",
    "from scipy.linalg import hilbert\n",
    "from scipy import linalg as LA"
   ]
  },
  {
   "cell_type": "markdown",
   "metadata": {},
   "source": [
    "### Teil a"
   ]
  },
  {
   "cell_type": "code",
   "execution_count": null,
   "metadata": {},
   "outputs": [],
   "source": [
    "# def lu(A):\n",
    "    "
   ]
  },
  {
   "cell_type": "code",
   "execution_count": 157,
   "metadata": {},
   "outputs": [
    {
     "name": "stdout",
     "output_type": "stream",
     "text": [
      "Erste Spalte: [ 2  3  4  5  6  7  8  9 10 11 12 13]\n",
      "\n",
      "Zweite Spalte: [2.70000000e-14 7.48000000e-13 2.83750000e-11 9.43656000e-10\n",
      " 2.90702790e-08 9.85194887e-07 3.38727891e-05 1.09964990e-03\n",
      " 3.53529487e-02 1.23050361e+00 3.92020098e+01 8.53495393e+02] \n",
      "\n",
      "Dritte Spalte: [6.661338147750939e-16, 3.330669073875469e-16, 3.26905169600877e-13, 3.652502875767687e-12, 1.7722270866306766e-10, 2.9427053497843923e-09, 4.390994877811886e-08, 1.6418006026947482e-06, 4.9167607710617043e-05, 0.0003068096178918075, 0.0450606125510078, 1.8259548699052652] \n",
      "\n",
      "Vierte Spalte: [] \n",
      "\n",
      "Fünfte Spalte: [] \n",
      "\n",
      "Sechste Spalte: [] \n",
      "\n"
     ]
    }
   ],
   "source": [
    "\n",
    "#Spalten nach Aufgabenstellung\n",
    "\n",
    "#erste Spalte\n",
    "erste=np.arange(2,14,1)\n",
    "print(f'Erste Spalte: {erste}\\n')\n",
    "\n",
    "from numpy import linalg as LA\n",
    "\n",
    "x=[]\n",
    "zweite=[]\n",
    "dritte=[]\n",
    "vierte=[]\n",
    "fuenfte=[]\n",
    "sechste=[]\n",
    "\n",
    "for i in erste:\n",
    "    \n",
    "    A=hilbert(i)\n",
    "    m,n=A.shape\n",
    "    x=np.zeros(m)\n",
    "    x[0]=1\n",
    "    x[n-1]=1\n",
    "    b = A[:,0] + A[:,n-1]\n",
    "    \n",
    "    #2.Spalte: Inf-Norm\n",
    "    konditionszahl=LA.cond(A, np.inf)\n",
    "    zweite.append(konditionszahl)\n",
    "    \n",
    "    \n",
    "    #3. Spalte: Relative Fehler mit xbs=A\\b\n",
    "    \n",
    "    xbs=np.asarray(LA.solve(A,b))\n",
    "    dritte.append(LA.norm(x-xbs, np.inf)/LA.norm(x, np.inf))  \n",
    "    \n",
    "    #4. Spalte: Relative Fehler (xlr) mit [L,R,P]=lu(A) - LR-Zerlegung mit Permutationsmatrix\n",
    "    \n",
    "    # xlr=np.asarray(lu(A))\n",
    "    # vierte=np.append(vierte, LA.norm(x-xlr, np.inf)/LA.norm(x, np.inf))\n",
    "    \n",
    "    #5. Spalte: Relative Fehler (xchol) R=chol(A) mit Cholensky-Zerlegung\n",
    "    \n",
    "    # xchol=np.asarray(chol(A))\n",
    "    # fuenfte=np.append(fuenfte, LA.norm(x-xchol, np.inf)/LA.norm(x, np.inf))\n",
    "    \n",
    "    #6. Spalte: ||Axchol-b||_inf\n",
    "    \n",
    "    # sechste.append\n",
    "    \n",
    "\n",
    "#Ausgabe der Daten     \n",
    "zweite=np.asarray(np.round(zweite), dtype=np.float64)\n",
    "zweite=zweite*10e-16\n",
    "print(f'Zweite Spalte: {zweite} \\n') #### mit 10e-16 multiplizieren???? #####\n",
    "print(f'Dritte Spalte: {dritte} \\n')\n",
    "print(f'Vierte Spalte: {vierte} \\n')\n",
    "print(f'Fünfte Spalte: {fuenfte} \\n')\n",
    "print(f'Sechste Spalte: {sechste} \\n')\n",
    "\n",
    "\n",
    "\n",
    "\n",
    "\n",
    "\n",
    "    \n",
    "    "
   ]
  },
  {
   "cell_type": "code",
   "execution_count": 216,
   "metadata": {},
   "outputs": [],
   "source": [
    "def lu(A):\n",
    "    m,n=A.shape\n",
    "\n",
    "    L = [[0 for x in range(n)]\n",
    "             for y in range(n)]\n",
    "    R = [[0 for x in range(n)]\n",
    "             for y in range(n)]\n",
    "    P=np.identity(n).tolist()\n",
    "    \n",
    "    p_index=np.arange(0,n,1)\n",
    "    print(p_index)\n",
    "    \n",
    "    \n",
    "    # lR-Zerlegung\n",
    "    for i in range(n):\n",
    " \n",
    "        # R(obere Dreiecksmatrix)\n",
    "        for k in range(i, n):\n",
    " \n",
    "            # Summe von L(i, j) * R(j, k)\n",
    "            sum = 0\n",
    "            for j in range(i):\n",
    "                sum += (L[i][j] * R[j][k])\n",
    " \n",
    "            # Algorithmus R(i, k)\n",
    "            R[i][k] = A[i][k] - sum\n",
    " \n",
    "        # L(untere Dreiecksmatrix)\n",
    "        for k in range(i, n):\n",
    "            if (i == k):\n",
    "                L[i][i] = 1  # 1 in der Diagonal\n",
    "            else:\n",
    "                # Summe von L(k, j) * U(j, i)\n",
    "                sum = 0\n",
    "                for j in range(i):\n",
    "                    sum += (L[k][j] * R[j][i])\n",
    "                    \n",
    " \n",
    "                # Algorithmus L(k, i)\n",
    "                L[k][i] = int((A[k][i] - sum) / R[i][i])\n",
    " \n",
    "    # Ausgabe der Matrizen :\n",
    "    print(\"Untere Dreiecksmatrix\\t\\tObere Dreiecksmatrix\")\n",
    "    \n",
    "    for i in range(n):\n",
    " \n",
    "        # L-Matrix\n",
    "        for j in range(n):\n",
    "            print(L[i][j], end=\"\\t\")\n",
    "        print(\"\", end=\"\\t\")\n",
    " \n",
    "        # R-Matrix\n",
    "        for j in range(n):\n",
    "            print(R[i][j], end=\"\\t\")\n",
    "        print(\"\")"
   ]
  },
  {
   "cell_type": "code",
   "execution_count": 217,
   "metadata": {},
   "outputs": [
    {
     "name": "stdout",
     "output_type": "stream",
     "text": [
      "[0 1 2 3]\n",
      "Untere Dreiecksmatrix\t\tObere Dreiecksmatrix\n",
      "1\t0\t0\t0\t\t1.0\t0.5\t0.3333333333333333\t0.25\t\n",
      "0\t1\t0\t0\t\t0\t0.3333333333333333\t0.25\t0.2\t\n",
      "0\t0\t1\t0\t\t0\t0\t0.2\t0.16666666666666666\t\n",
      "0\t0\t0\t1\t\t0\t0\t0\t0.14285714285714285\t\n"
     ]
    }
   ],
   "source": [
    "A=np.array(([2,-3,4,3],[6,-9,12,8],[4,-5,6,7],[2,1,-1,8]))\n",
    "A.shape\n",
    "B=hilbert(4)\n",
    "\n",
    "\n",
    "lu(B)"
   ]
  },
  {
   "cell_type": "code",
   "execution_count": null,
   "metadata": {},
   "outputs": [],
   "source": []
  }
 ],
 "metadata": {
  "kernelspec": {
   "display_name": "Python 3.8.11 ('base')",
   "language": "python",
   "name": "python3"
  },
  "language_info": {
   "codemirror_mode": {
    "name": "ipython",
    "version": 3
   },
   "file_extension": ".py",
   "mimetype": "text/x-python",
   "name": "python",
   "nbconvert_exporter": "python",
   "pygments_lexer": "ipython3",
   "version": "3.8.11"
  },
  "orig_nbformat": 4,
  "vscode": {
   "interpreter": {
    "hash": "4d2737aaab1f227d605e973e92dd7517b924c0423a88572cd91d229377dc309c"
   }
  }
 },
 "nbformat": 4,
 "nbformat_minor": 2
}
