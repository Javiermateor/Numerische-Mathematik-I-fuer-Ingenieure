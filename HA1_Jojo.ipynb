{
 "cells": [
  {
   "cell_type": "markdown",
   "id": "202414e8",
   "metadata": {},
   "source": [
    "# Programmieraufgabe 1"
   ]
  },
  {
   "cell_type": "code",
   "execution_count": 1,
   "id": "03b5b2b3",
   "metadata": {},
   "outputs": [],
   "source": [
    "%matplotlib inline\n",
    "# Import der gebrauchten Packete:\n",
    "import numpy as np\n",
    "import matplotlib.pyplot as plt"
   ]
  },
  {
   "cell_type": "markdown",
   "id": "31d7fc57",
   "metadata": {},
   "source": [
    "### Aufgabenteil (a)"
   ]
  },
  {
   "cell_type": "code",
   "execution_count": 2,
   "id": "e7b96ed0",
   "metadata": {},
   "outputs": [
    {
     "name": "stdout",
     "output_type": "stream",
     "text": [
      "Für y gilt: [18 33 -6]\n",
      "Für x gilt: [1 2 3]\n",
      "Das Ergebnis der Rechnung ist: x=  [1 2 3]\n"
     ]
    }
   ],
   "source": [
    "\n",
    "def vorrueck(L, R, b):\n",
    "    # Initialiesierung von Werten/ Matrizen\n",
    "    n = np.shape(L)\n",
    "    n = int(n[0])\n",
    "    # Initialisierung mit Nullmatrizen\n",
    "    y = np.zeros(n, dtype=int)\n",
    "    x = np.zeros(n, dtype=int)\n",
    "    \n",
    "    # vorwärts einsetzen\n",
    "    for i in range(n): \n",
    "        y[i]= b[i]\n",
    "        for j in range(i):\n",
    "            y[i] = y[i] - (L[i,j] * y[j])  \n",
    "    # y ist ab hier definiert    \n",
    "    print(\"Für y gilt:\",y)\n",
    "    \n",
    "    # rückwärts einsetzen\n",
    "    for i in reversed(range(n)): \n",
    "        x[i]= y[i]\n",
    "        for j in reversed(range(i,n)):\n",
    "            if i != j:\n",
    "                x[i] = x[i] - (R[i,j] * x[j])\n",
    "        x[i] = x[i]/R[i,i]\n",
    "    # x ist ab hier definiert  \n",
    "    print(\"Für x gilt:\", x)\n",
    "        \n",
    "    return(x)\n",
    "        \n",
    "# Initialiesierung der Vektoren\n",
    "L = np.array([[1, 0, 0], [-2, 1, 0], [4, 5, 1]])\n",
    "R = np.array([[2, -1, 6], [0, 3, 9], [0, 0, -2]])\n",
    "b = np.array([18, -3, 231])\n",
    "\n",
    "# Aufruf der Funktion\n",
    "x = vorrueck(L, R, b)\n",
    "print(\"Das Ergebnis der Rechnung ist: x= \", x)"
   ]
  },
  {
   "cell_type": "markdown",
   "id": "e88bf44a",
   "metadata": {},
   "source": [
    "#### expected result:\n",
    "\n",
    "- Für y gilt: [18 33 -6]\n",
    "- Für x gilt: [1 2 3]\n",
    "- Das Ergebnis der Rechnung ist: x=  [1 2 3]"
   ]
  },
  {
   "cell_type": "code",
   "execution_count": 3,
   "id": "f7deb2aa",
   "metadata": {},
   "outputs": [
    {
     "name": "stdout",
     "output_type": "stream",
     "text": [
      "Für y gilt: [27 14  4]\n",
      "Für x gilt: [6 1 4]\n",
      "Das Ergebnis der ersten Rechnung ist: x=  [6 1 4]\n",
      "Für y gilt: [  7  32 -13  -6]\n",
      "Für x gilt: [ 2  5 -3  1]\n",
      "Das Ergebnis der zweiten Rechnung ist: x=  [ 2  5 -3  1]\n"
     ]
    }
   ],
   "source": [
    "# Andere Testdaten\n",
    "\n",
    "L1 = np.array([[1, 0, 0], [2, 1, 0], [4, -3, 1]])\n",
    "R1 = np.array([[3, 3, 1], [0, -2, 4], [0, 0, 1]])\n",
    "b1 = np.array([27, 68, 70])\n",
    "x1 = vorrueck(L1, R1, b1)\n",
    "\n",
    "print(\"Das Ergebnis der ersten Rechnung ist: x= \", x1)\n",
    "\n",
    "L2 = np.array([[1, 0, 0, 0], [4, 1, 0, 0], [3, -2, 1, 0], [1, 5, -3, 1]])\n",
    "R2 = np.array([[1, 2, 3, 4], [0, 5, -2, 1], [0, 0, 3, -4], [0, 0, 0, -6]])\n",
    "b2 = np.array([7, 60, -56, 200])\n",
    "x2 = vorrueck(L2, R2, b2)\n",
    "print(\"Das Ergebnis der zweiten Rechnung ist: x= \", x2)"
   ]
  },
  {
   "cell_type": "markdown",
   "id": "f1f9d033",
   "metadata": {},
   "source": [
    "#### expected result\n",
    "\n",
    "- Für y gilt: [27 14  4]\n",
    "- Für x gilt: [6 1 4]\n",
    "- Das Ergebnis der ersten Rechnung ist: x=  [6 1 4]\n",
    "\n",
    "\n",
    "- Für y gilt: [  7  32  -13 -6]\n",
    "- Für x gilt: [2   5   -3  1]\n",
    "- Das Ergebnis der zweiten Rechnung ist: x=  [2   5   -3  1]"
   ]
  },
  {
   "cell_type": "markdown",
   "id": "195e057c",
   "metadata": {},
   "source": [
    "### Aufgabenteil (b)"
   ]
  },
  {
   "cell_type": "code",
   "execution_count": 19,
   "id": "982adbb7",
   "metadata": {},
   "outputs": [
    {
     "name": "stdout",
     "output_type": "stream",
     "text": [
      "Die Matrix A wird mit den aus Aufgabenteil a) gegebenen Matrizen berechnet und ergibt sich zu:\n",
      " [[ 2 -1  6]\n",
      " [-4  5 -3]\n",
      " [ 8 11 67]]\n",
      "(3, 3)\n",
      "Die von unserem Program ausgerechnete LR-Zerlegung ergibt für die untere Dreiecksmatrix:\n",
      " [[ 1  0  0]\n",
      " [-2  1  0]\n",
      " [ 4  5  1]]\n",
      "Die von unserem Program ausgerechnete LR-Zerlegung ergibt für die obere Dreiecksmatrix:\n",
      " [[ 2 -1  6]\n",
      " [ 0  3  9]\n",
      " [ 0  0 -2]]\n",
      "Anschließend wird getestet, ob das selbst geschriebene Programm richtig rechnet:\n",
      "Die Rechnung ist wurde korrekt ausgeführt die definierten Matrizen stimmen mit den ausgerechneten Matrizen überein.\n"
     ]
    }
   ],
   "source": [
    "def lr(A):\n",
    "    #Initialsiseirung der gebrauchten Werte/ Matrizen\n",
    "    # Anzahl der Zeilen/Spalten der übergebenen Matrix\n",
    "    n = np.shape(A)\n",
    "    print(n)\n",
    "    # Überprüfung quadratische Matrix\n",
    "    if int(n[0]) == int(n[1]):\n",
    "        n = int(n[0])\n",
    "\n",
    "        # Erstellung einer Einheitsmatrix für L\n",
    "        L = np.zeros((n,n), dtype=int)\n",
    "        for i in range(n):\n",
    "            L[i,i] = 1\n",
    "\n",
    "        # Initialisierung von R\n",
    "        R = A\n",
    "\n",
    "        # Rechnung/ Füllung der L,R Matrizen\n",
    "        for j in range(0,n-1):\n",
    "            for k in range(j+1, n):\n",
    "                L[k,j] = R[k,j] / R[j,j] # Befüllen der L-Matrix mit Quotienten \n",
    "                for m in range(n):\n",
    "                    R[k,m] = R[k,m]-(L[k,j] * R[j,m]) # Durchführen von Zeilenoperationen und aktualiesiern der R-Matrix\n",
    "        return(L,R)\n",
    "    else:\n",
    "        print(\"Rechnung erfolgt nur mit Quadratischen Funktionen.\")\n",
    "        return\n",
    "    \n",
    "    \n",
    "    \n",
    "# A ausrechen\n",
    "A = L@R\n",
    "print(\"Die Matrix A wird mit den aus Aufgabenteil a) gegebenen Matrizen berechnet und ergibt sich zu:\\n\",A)\n",
    "\n",
    "# Selbstgeschriebene Funktion aufrufen\n",
    "[L_new,R_new] = lr(A)\n",
    "print(\"Die von unserem Program ausgerechnete LR-Zerlegung ergibt für die untere Dreiecksmatrix:\\n\",L_new)\n",
    "print(\"Die von unserem Program ausgerechnete LR-Zerlegung ergibt für die obere Dreiecksmatrix:\\n\",R_new)\n",
    "\n",
    "# Ergebnis überprüfen\n",
    "print(\"Anschließend wird getestet, ob das selbst geschriebene Programm richtig rechnet:\")\n",
    "if np.array_equal(L, L_new) and np.array_equal(R, R_new):\n",
    "    print(\"Die Rechnung ist wurde korrekt ausgeführt die definierten Matrizen stimmen mit den ausgerechneten Matrizen überein.\")\n",
    "else:\n",
    "    print(\"Die vorher definierten Matrizen stimmen nicht mit den ausgerechneten Matrizen überein.\")"
   ]
  },
  {
   "cell_type": "code",
   "execution_count": 22,
   "id": "9f2b904a",
   "metadata": {},
   "outputs": [
    {
     "name": "stdout",
     "output_type": "stream",
     "text": [
      "(4, 4)\n",
      "Die von unserem Program ausgerechnete LR-Zerlegung ergibt für die untere Dreiecksmatrix:\n",
      " [[ 1  0  0  0]\n",
      " [ 4  1  0  0]\n",
      " [ 3 -2  1  0]\n",
      " [ 1  5 -3  1]]\n",
      "Die von unserem Program ausgerechnete LR-Zerlegung ergibt für die obere Dreiecksmatrix:\n",
      " [[ 1  2  3  4]\n",
      " [ 0  5 -2  1]\n",
      " [ 0  0  3 -4]\n",
      " [ 0  0  0 -6]]\n",
      "(2, 3)\n",
      "Rechnung erfolgt nur mit Quadratischen Funktionen.\n"
     ]
    }
   ],
   "source": [
    "#Probe mit anderer Matrix\n",
    "\n",
    "A1 = np.array([[1, 2, 3, 4], [4, 13, 10, 17], [3, -4, 16, 6], [1, 27, -16, 15]]) \n",
    "[L_new_1,R_new_1] = lr(A1)\n",
    "print(\"Die von unserem Program ausgerechnete LR-Zerlegung ergibt für die untere Dreiecksmatrix:\\n\",L_new_1)\n",
    "print(\"Die von unserem Program ausgerechnete LR-Zerlegung ergibt für die obere Dreiecksmatrix:\\n\", R_new_1)\n",
    "\n",
    "A2 = np.array([[1,2,3], [4,5,6]])\n",
    "lr(A2)"
   ]
  },
  {
   "cell_type": "markdown",
   "id": "902abbb7",
   "metadata": {},
   "source": [
    "### Aufgabenteil (c)"
   ]
  },
  {
   "cell_type": "code",
   "execution_count": 64,
   "id": "9f2e6139",
   "metadata": {},
   "outputs": [
    {
     "data": {
      "image/png": "[encoded data removed]",
      "text/plain": [
       "<Figure size 566.929x141.732 with 1 Axes>"
      ]
     },
     "metadata": {
      "needs_background": "light"
     },
     "output_type": "display_data"
    },
    {
     "data": {
      "image/png": "[encoded data removed]",
      "text/plain": [
       "<Figure size 566.929x141.732 with 1 Axes>"
      ]
     },
     "metadata": {
      "needs_background": "light"
     },
     "output_type": "display_data"
    }
   ],
   "source": [
    "# Array als Definietionsmenge\n",
    "x1= np.linspace(0,1, 100)\n",
    "x11 = np.linspace(0,1, 11)\n",
    "x2 = np.linspace(-3, 3, 1000)\n",
    "#x22 = np.linspace(-1.5, 1.5, 7)\n",
    "#x22 = np.array([\"-1.5\", \"-1\", \"-0.5\", \"0\", \"0.5\", \"1\", \"1.5\"])\n",
    "\n",
    "\n",
    "# Einstellungn für die Formatierung des Plottes\n",
    "f11 = plt.plot(x1, np.sin(x1*5), \"k\", linewidth=0.5) # Definitin der ersten Kurve und Dicke der Kurve\n",
    "f12 = plt.plot(x1, np.cos(x1*5), \"k\", linewidth=0.5) # Definitin der zweiten Kurve und Dicke der Kurve\n",
    "plt.title(\"y=sin(5x) und y=cos(5x)\") # Titel des Diagramms\n",
    "plt.xlabel('x') # Beschriftung x Achse\n",
    "plt.ylabel('y') # Beschriftung y Achse\n",
    "plt.grid(linestyle='dotted') # Hintergrundgitter \n",
    "plt.ylim(-2, 2) # Wertebereich\n",
    "plt.xlim(0,1) # Definitionsbereich\n",
    "plt.rcParams['figure.figsize'] = [20/2.54, 5/2.54] # Größe des Diabramms\n",
    "plt.xticks([0, 0.1, 0.2, 0.3,0.4, 0.5, 0.6,0.7,0.8, 0.9, 1], ['0', '0.1', '0.2', '0.3','0.4', '0.5', '0.6','0.7', '0.8', '0.9', '1'])  # Definitonsbereich Zahlen\n",
    "#Axes.set_anchor('W')\n",
    "#plt.anchor('W')\n",
    "\n",
    "\n",
    "# zweites Diagramm\n",
    "plt.subplots()\n",
    "plt.title(\"y=sin(exp(x))\")\n",
    "plt.plot(x2, np.sin(np.exp(x2)), \"k\", linewidth=0.5)\n",
    "plt.ylim(-1.5, 1.5)\n",
    "plt.xlim(-3,3)\n",
    "plt.yticks([-1.5, -1, -0.5, 0, 0.5, 1, 1.5], ['-1.5', '-1', '-0.5', '0', '0.5', '1', '1.5'])\n",
    "plt.xlabel('x')\n",
    "plt.ylabel('y')\n",
    "plt.rcParams['figure.figsize'] = [20/2.54, 5/2.54]\n",
    "plt.show()\n"
   ]
  },
  {
   "cell_type": "markdown",
   "id": "d5ba2cdd",
   "metadata": {},
   "source": [
    "#### Sachen, die noch geändert werden müssen:\n",
    "- Beide alignen mit set_anchor('w')\n",
    "plt.subplots_adjust(wspace=20)\n",
    "\n",
    "##### Oberes\n",
    "- kleine Striche drumherum\n",
    "\n",
    "##### Unteres\n",
    "- kleine Striche drumherum"
   ]
  },
  {
   "cell_type": "code",
   "execution_count": null,
   "id": "72ee4546",
   "metadata": {},
   "outputs": [],
   "source": []
  }
 ],
 "metadata": {
  "kernelspec": {
   "display_name": "Python 3 (ipykernel)",
   "language": "python",
   "name": "python3"
  },
  "language_info": {
   "codemirror_mode": {
    "name": "ipython",
    "version": 3
   },
   "file_extension": ".py",
   "mimetype": "text/x-python",
   "name": "python",
   "nbconvert_exporter": "python",
   "pygments_lexer": "ipython3",
   "version": "3.9.7"
  }
 },
 "nbformat": 4,
 "nbformat_minor": 5
}
