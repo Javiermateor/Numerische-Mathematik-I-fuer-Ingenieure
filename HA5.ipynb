{
 "cells": [
  {
   "cell_type": "code",
   "execution_count": 2,
   "id": "69d0bcec",
   "metadata": {},
   "outputs": [],
   "source": [
    "import numpy as np\n",
    "import pandas as pd\n",
    "import math\n",
    "import matplotlib.pyplot as plt\n",
    "from numpy import linalg as LA\n",
    "from scipy.linalg import hilbert\n",
    "from scipy.linalg import lu\n",
    "from scipy import linalg as LA"
   ]
  },
  {
   "cell_type": "markdown",
   "id": "9ecabaa4",
   "metadata": {},
   "source": [
    "### Erste Programmieraufgabe"
   ]
  },
  {
   "cell_type": "code",
   "execution_count": 132,
   "id": "d4f8da4b",
   "metadata": {},
   "outputs": [],
   "source": [
    "def f(t,y):\n",
    "    f = np.cos(t)*y\n",
    "    return f\n",
    "    \n",
    "def loeservergleich(h):\n",
    "    k = int(50/h)\n",
    "    \n",
    "    # Anfangswerte:\n",
    "    euler = np.array([[0,1]],dtype=float)\n",
    "    collatz = np.array([[0,1]],dtype=float)\n",
    "    heun = np.array([[0,1]],dtype=float)\n",
    "    for i in range(k):\n",
    "        # expliziertes Eulerverfahren\n",
    "        euler = np.append(euler, [[euler[i,0]+h, euler[i,1]+h*f(euler[i,0], euler[i,1])]], axis=0)\n",
    "        # Collatzverfahren\n",
    "        collatz = np.append(collatz, [[collatz[i,0]+h, collatz[i,1]+h*f(collatz[i,0]+(h/2),collatz[i,1]+(h/2)*f(collatz[i,0], collatz[i,1]))]], axis=0)\n",
    "        # Heunverfahren\n",
    "        heun = np.append(heun, [[heun[i,0]+h, heun[i,1]+(h/2)*(f(heun[i,0], heun[i,1])+f(heun[i,0]+h,heun[i,1]+h*f(heun[i,0], heun[i,1])))]], axis=0)\n",
    "    \n",
    "    \n",
    "    # Plot der Funktion und Annäherungen\n",
    "    x = np.linspace(0,50,k)\n",
    "    plt.plot(x,np.exp(np.sin(x)),  color='yellow', linewidth=7, label=\"Lösungsfunktion\")\n",
    "    plt.plot(euler[:,0], euler[:,1], color='green', linewidth=2, label=\"Euler (explizit)\")\n",
    "    plt.plot(collatz[:,0], collatz[:,1], color='red', linewidth=2, label=\"Collatz\")\n",
    "    plt.plot(heun[:,0], heun[:,1], color='blue', linewidth=2, label=\"Heun\")\n",
    "    plt.legend(loc=\"upper right\")\n",
    "    plt.xlim(0,50)\n",
    "    plt.xlabel(\"t\") \n",
    "    plt.ylabel(\"y\")\n",
    "    plt.title(\"Plot der Funktion und verschiedene Annäherungen\", pad ='15')\n",
    "    plt.rcParams[\"figure.figsize\"] = (15,15)\n",
    "    plt.show()"
   ]
  },
  {
   "cell_type": "code",
   "execution_count": 133,
   "id": "0e1d5124",
   "metadata": {},
   "outputs": [
    {
     "data": {

      "text/plain": [
       "<Figure size 1080x1080 with 1 Axes>"
      ]
     },
     "metadata": {
      "needs_background": "light"
     },
     "output_type": "display_data"
    }
   ],
   "source": [
    "loeservergleich(0.5)"
   ]

  }
 ],
 "metadata": {
  "kernelspec": {

   "language": "python",
   "name": "python3"
  },
  "language_info": {
   "codemirror_mode": {
    "name": "ipython",
    "version": 3
   },
   "file_extension": ".py",
   "mimetype": "text/x-python",
   "name": "python",
   "nbconvert_exporter": "python",
   "pygments_lexer": "ipython3",

  }
 },
 "nbformat": 4,
 "nbformat_minor": 5
}
