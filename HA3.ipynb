{
 "cells": [
  {
   "cell_type": "code",
   "execution_count": 1,
   "id": "413ebed8",
   "metadata": {},
   "outputs": [],
   "source": [
    "import numpy as np\n",
    "import pandas as pd\n",
    "import math\n",
    "import matplotlib.pyplot as plt\n",
    "from numpy import linalg as LA\n",
    "from scipy.linalg import hilbert\n",
    "from scipy.linalg import lu\n",
    "from scipy import linalg as LA"
   ]
  },
  {
   "cell_type": "markdown",
   "id": "e2f5f671",
   "metadata": {},
   "source": [
    "### Erste Programmieraufgabe:\n"
   ]
  },
  {
   "cell_type": "code",
   "execution_count": 2,
   "id": "b697d104",
   "metadata": {},
   "outputs": [],
   "source": [
    "def regularfalsi(f,a,b,tol):\n",
    "    x = np.zeros(1, dtype=float)\n",
    "    abbruch = True\n",
    "    i = 0\n",
    "    x[i]= a-(f(a)*(b-a)/(f(b)-f(a)))\n",
    "    while abbruch == True:\n",
    "        if x[i] > 0:\n",
    "            b = x[i]\n",
    "        if x[i] < 0:\n",
    "            a = x[i]\n",
    "        elif x[i] == 0:\n",
    "            print(\"Das regular Falsi Verfahren kann bei der Eingabe nicht angewandt werden.\")\n",
    "        i += 1\n",
    "        x = np.append(x,(a*f(b)-b*f(a))/(f(b)-f(a)))\n",
    "        \n",
    "        if np.abs(x[i-1]-x[i])<tol:\n",
    "            abbruch = False \n",
    "    n = np.shape(x)\n",
    "    return x[n[0]-1]"
   ]
  },
  {
   "cell_type": "code",
   "execution_count": 3,
   "id": "26375ad6",
   "metadata": {},
   "outputs": [
    {
     "data": {
      "image/png": "[encoded data removed]",
      "text/plain": [
       "<Figure size 432x288 with 1 Axes>"
      ]
     },
     "metadata": {
      "needs_background": "light"
     },
     "output_type": "display_data"
    },
    {
     "name": "stdout",
     "output_type": "stream",
     "text": [
      "Aus dem Plot der Funktion wurde x1 = 1 und x2 = 3 als Startwerte gewählt.\n",
      "Bei den gewählten Parametern ist eine Nullstelle zu x = 1.87510406871 angenährt.\n"
     ]
    }
   ],
   "source": [
    "# Funktion definieren\n",
    "def f(x):\n",
    "    y = 1+(np.cos(x)*np.cosh(x))\n",
    "    return y\n",
    "\n",
    "# Funktionsplott der Funktion f(x) = 1 + cos(x)*cosh(x)\n",
    "x = np.linspace(-10,10,300)\n",
    "plt.plot(x, 1+(np.cos(x)*np.cosh(x)), color = 'blue', linewidth=2)\n",
    "plt.xlim(-10, 10)\n",
    "plt.ylim(-20, 20)\n",
    "plt.grid()\n",
    "plt.axvline(x=0, color='black', linestyle='-')\n",
    "plt.axhline(y=0, color='black', linestyle='-')\n",
    "plt.show()\n",
    "\n",
    "\n",
    "\n",
    "# Regular Falsi Funktion aufrufen\n",
    "print(\"Aus dem Plot der Funktion wurde x1 = 1 und x2 = 3 als Startwerte gewählt.\")\n",
    "x = regularfalsi(f,1,3,1*10e-12) #um die 10te Stelle richtig zu haben muss die Toleranz größer als 10e-10 gewählt werden\n",
    "print(\"Bei den gewählten Parametern ist eine Nullstelle zu x =\",'%.11f'%x, \"angenährt.\")\n",
    "\n",
    "\n",
    "# Auf 10 Stellen genau wäre:\n",
    "# 1.8751040687 062754"
   ]
  },
  {
   "cell_type": "markdown",
   "id": "f8dc1801",
   "metadata": {},
   "source": [
    "### Einschub (Theorieaufgabe 3c)"
   ]
  },
  {
   "cell_type": "code",
   "execution_count": 4,
   "id": "39915f34",
   "metadata": {},
   "outputs": [
    {
     "name": "stdout",
     "output_type": "stream",
     "text": [
      "Iterationsverfahren:\n",
      "Nach dem 1 Iterationsschritt ist x= 2.6000000000000001\n",
      "Nach dem 2 Iterationsschritt ist x= 2.2395084205735092\n",
      "Nach dem 3 Iterationsschritt ist x= 2.2360679815580595\n",
      "Nach dem 4 Iterationsschritt ist x= 2.2360679774997898\n",
      "Für das Ergebnis mit Iterationsverfahren braucht man 4 Durchläufe.\n",
      "\n",
      "\n",
      "Newtonverfahren:\n",
      "Nach dem 1 Iterationsschritt ist x= 3.0000000000000000\n",
      "Nach dem 2 Iterationsschritt ist x= 2.3333333333333335\n",
      "Nach dem 3 Iterationsschritt ist x= 2.2380952380952381\n",
      "Nach dem 4 Iterationsschritt ist x= 2.2360688956433634\n",
      "Nach dem 5 Iterationsschritt ist x= 2.2360679774999781\n",
      "Nach dem 6 Iterationsschritt ist x= 2.2360679774997898\n",
      "Für das Ergebnis mit Newtonverfahren braucht man 6 Durchläufe.\n"
     ]
    }
   ],
   "source": [
    "tol = 10e-15\n",
    "\n",
    "# Iterationsverfahren (**)\n",
    "x = np.zeros(1, dtype=np.double)\n",
    "i = 0\n",
    "a = 5\n",
    "b = True\n",
    "x[0] = 5\n",
    "\n",
    "\n",
    "while b == True:\n",
    "    x = np.append(x,0.5*(x[i]+(a)/(x[i]))-((x[i])**2-a)**2/(8*x[i]**3))\n",
    "    if np.abs(np.sqrt(5)-x[i+1])<tol:\n",
    "        b = False\n",
    "    i += 1\n",
    "n = np.shape(x)\n",
    "\n",
    "print(\"Iterationsverfahren:\")\n",
    "for h in range(1,n[0]):\n",
    "    print(\"Nach dem\",h, \"Iterationsschritt ist x=\",'%.16f'%x[h])\n",
    "print(\"Für das Ergebnis mit Iterationsverfahren braucht man\",n[0]-1,\"Durchläufe.\\n\\n\")\n",
    "\n",
    "# Newtonverfahren (*)\n",
    "y = np.zeros(1, dtype=np.double)\n",
    "y[0] = 5\n",
    "i = 0\n",
    "a = 5\n",
    "c = True\n",
    "\n",
    "while c == True: \n",
    "    y = np.append(y,(0.5*(y[i]+(a)/(y[i]))))\n",
    "    if np.abs(y[i+1]-np.sqrt(5))<tol:\n",
    "        c = False\n",
    "    i += 1\n",
    "n = np.shape(y)\n",
    "\n",
    "print(\"Newtonverfahren:\")\n",
    "for h in range(1,n[0]):\n",
    "    print(\"Nach dem\",h, \"Iterationsschritt ist x=\",'%.16f'%y[h])\n",
    "print(\"Für das Ergebnis mit Newtonverfahren braucht man\",n[0]-1,\"Durchläufe.\")\n",
    "\n",
    "# Erwartetes Ergebnis:\n",
    "# 2.2360679774 9978969640"
   ]
  },
  {
   "cell_type": "markdown",
   "id": "29e2f31e",
   "metadata": {},
   "source": [
    "### Zweite Programmieraufgabe:"
   ]
  },
  {
   "cell_type": "code",
   "execution_count": 5,
   "id": "2c0b6d79",
   "metadata": {},
   "outputs": [],
   "source": [
    "# Funktion\n",
    "def F(x):\n",
    "    a = np.array([[0,0],[1,1]], dtype=float)\n",
    "    s = 10\n",
    "    l = 2\n",
    "    m = 1\n",
    "    F = np.zeros((2,2), dtype=np.double)\n",
    "    \n",
    "    for k in range(2):\n",
    "        F[k] = s*(((l)/(LA.norm(x-a[k],2)))-1)*(x-a[k])\n",
    "    return F\n",
    "\n",
    "# Ableitung\n",
    "def f(x):\n",
    "    a = np.array([[0,0],[1,1]], dtype=float)\n",
    "    s = 10\n",
    "    l = 2\n",
    "    m = 1\n",
    "    I = np.identity(2)\n",
    "    f = np.zeros((2,2,2), dtype=float)\n",
    "\n",
    "    for k in range(2):\n",
    "        xa = np.array([x-a[k]])\n",
    "        xa = np.append(xa, [np.zeros(2)], axis=0)\n",
    "        f[k] = (s*(((l/(LA.norm(x-a[k],2)))-1)*I-(l*(np.transpose(xa)@xa)/((LA.norm(x-a[k],2))**3))))\n",
    "    return f\n",
    "\n",
    "def Fgesamt(x):\n",
    "    F12 = F(x)\n",
    "    F1 = F12[0]\n",
    "    F2 = F12[1]\n",
    "    G = np.array([0,-9.81])\n",
    "    Fgesamt = F1+F2+G\n",
    "    return Fgesamt\n",
    "    \n",
    "def fgesamt(x):\n",
    "    f12 = f(x)\n",
    "    f1 = f12[0]\n",
    "    f2 = f12[1]\n",
    "    fgesamt = f1+f2\n",
    "    return fgesamt\n",
    "\n",
    "def newtonverfahren(x0):\n",
    "    x = np.zeros((1,2), dtype=np.double)\n",
    "    x[0] = x0\n",
    "    tol = 10e-10\n",
    "    i = 0\n",
    "    c = True\n",
    "    while c == True: \n",
    "        x = np.append(x,[x[i]-LA.inv(fgesamt(x[i]))@Fgesamt(x[i])], axis= 0)        \n",
    "        if (np.abs(x[i+1,0]-x[i,0]))<tol and (np.abs(x[i+1,1]-x[i,1]))<tol:\n",
    "            c = False\n",
    "        i += 1\n",
    "    n = np.shape(x)\n",
    "    print\n",
    "    return x[n[0]-1]\n"
   ]
  },
  {
   "cell_type": "code",
   "execution_count": 6,
   "id": "7762da0a",
   "metadata": {},
   "outputs": [
    {
     "name": "stdout",
     "output_type": "stream",
     "text": [
      "Die erste angenäherte Nullstelle ist bei: x= [ 0.87769914 -1.89719206] und F(x)= [2.22044605e-16 0.00000000e+00]\n",
      "Die zweite angenäherte Nullstelle ist bei x= [1.06051569 1.87787206] und F(x)= [-8.8817842e-16  0.0000000e+00]\n",
      "\n",
      "Das Sytem ist in mehreren unterschiedlichen Punkten im Raum in Ruhe. Durch die verschiedenen Startpunkte haben wir uns an unterschiedliche Gleichgewichtspunkten im Raum angenährt.\n"
     ]
    }
   ],
   "source": [
    "x01 = np.array([0,-4])\n",
    "new1= newtonverfahren(x01)\n",
    "print(\"Die erste angenäherte Nullstelle ist bei: x=\",new1,\"und F(x)=\",Fgesamt(new1))\n",
    "\n",
    "\n",
    "\n",
    "x02 = np.array([0,4])\n",
    "new2 = newtonverfahren(x02)\n",
    "print(\"Die zweite angenäherte Nullstelle ist bei x=\",new2,\"und F(x)=\",Fgesamt(new2))\n",
    "\n",
    "\n",
    "print(\"\\nDas Sytem ist in mehreren unterschiedlichen Punkten im Raum in Ruhe. Durch die verschiedenen Startpunkte haben wir uns an unterschiedliche Gleichgewichtspunkten im Raum angenährt.\")"
   ]
  }
 ],
 "metadata": {
  "kernelspec": {
   "display_name": "Python 3 (ipykernel)",
   "language": "python",
   "name": "python3"
  },
  "language_info": {
   "codemirror_mode": {
    "name": "ipython",
    "version": 3
   },
   "file_extension": ".py",
   "mimetype": "text/x-python",
   "name": "python",
   "nbconvert_exporter": "python",
   "pygments_lexer": "ipython3",
   "version": "3.9.7"
  },
  "vscode": {
   "interpreter": {
    "hash": "7106b90ae087c6e94ba7ff307953cdc30eb6ee47cac27f57db3c31f39d180fa4"
   }
  }
 },
 "nbformat": 4,
 "nbformat_minor": 5
}